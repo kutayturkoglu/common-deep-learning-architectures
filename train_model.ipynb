{
 "cells": [
  {
   "cell_type": "code",
   "execution_count": null,
   "metadata": {},
   "outputs": [],
   "source": [
    "import torch\n",
    "from torchvision import transforms\n",
    "import sys\n",
    "sys.path.append(\"data/\")\n",
    "sys.path.append(\"model/\")\n",
    "from data import dataloader\n",
    "from torchvision.transforms import ToTensor\n",
    "from torch.utils.data import Dataset, DataLoader\n",
    "import torch.optim as optim\n",
    "from utils import plot\n",
    "from tqdm import tqdm\n",
    "from model import vgg16 \n",
    "%load_ext autoreload\n",
    "%autoreload 2"
   ]
  },
  {
   "cell_type": "code",
   "execution_count": null,
   "metadata": {},
   "outputs": [],
   "source": [
    "train_root_dir = \"archive/seg_train/seg_train\"\n",
    "test_root_dir = \"archive/seg_test/seg_test\"\n",
    "\n",
    "train_dataset = dataloader.CustomDataset(root_dir=train_root_dir).samples\n",
    "test_dataset = dataloader.CustomDataset(root_dir=test_root_dir).samples\n",
    "plot(train_dataset)"
   ]
  },
  {
   "cell_type": "code",
   "execution_count": null,
   "metadata": {},
   "outputs": [],
   "source": [
    "batch_size = 64\n",
    "shuffle = True\n",
    "transform = transforms.Compose([\n",
    "    transforms.Resize((228, 228)),  # Resize images to 228x228\n",
    "    # transforms.RandomHorizontalFlip(),  # Randomly flip images horizontally\n",
    "    transforms.ToTensor(),  # Convert images to PyTorch tensors\n",
    "])\n",
    "train_dataset = dataloader.CustomDataset(root_dir=train_root_dir, transform=transform).samples\n",
    "test_dataset = dataloader.CustomDataset(root_dir=train_root_dir, transform=transform).samples"
   ]
  },
  {
   "cell_type": "code",
   "execution_count": null,
   "metadata": {},
   "outputs": [],
   "source": [
    "pin_memory = True if torch.cuda.is_available() else False\n",
    "train_loader = DataLoader(train_dataset, batch_size=batch_size, shuffle=shuffle, pin_memory=pin_memory)\n",
    "test_loader = DataLoader(test_dataset, batch_size=batch_size, shuffle=False, pin_memory=pin_memory)"
   ]
  },
  {
   "cell_type": "code",
   "execution_count": null,
   "metadata": {},
   "outputs": [],
   "source": [
    "device = torch.device(\"cuda\" if torch.cuda.is_available() else \"cpu\")\n",
    "model = vgg16.vgg16(3)\n",
    "model = model.to(device)"
   ]
  },
  {
   "cell_type": "code",
   "execution_count": null,
   "metadata": {},
   "outputs": [],
   "source": [
    "\n",
    "# Define loss function and optimizer\n",
    "criterion = torch.nn.CrossEntropyLoss()\n",
    "optimizer = optim.Adam(model.parameters(), lr=0.01)\n",
    "\n",
    "epochs = 3\n",
    "for epoch in range(epochs):\n",
    "    model.train()  # Set model to training mode\n",
    "    running_loss = 0.0\n",
    "    correct_predictions = 0\n",
    "    total_samples = 0\n",
    "    \n",
    "    # Iterate over the first 100 data points\n",
    "    for i, (img, label) in enumerate(tqdm(train_loader, desc=f'Epoch {epoch + 1}')):\n",
    "        print(i)\n",
    "        if i >= 2:\n",
    "            break  # Stop iterating after the 100th data point\n",
    "        \n",
    "        img, label = img.to(device), label.to(device)  # Move data to GPU\n",
    "        optimizer.zero_grad()\n",
    "        outputs = model(img)\n",
    "        loss = criterion(outputs, label)\n",
    "        loss.backward()\n",
    "        optimizer.step()\n",
    "\n",
    "        _, predicted = torch.max(outputs.data, 1)\n",
    "        correct_predictions += (predicted == label).sum().item()\n",
    "        total_samples += label.size(0)\n",
    "        running_loss += loss.item()\n",
    "        \n",
    "        if (i + 1) % 100 == 0:  # print every 100 mini-batches \n",
    "            print(f'[{epoch + 1}, {i + 1}] loss: {running_loss / 100:.3f}')\n",
    "            running_loss = 0.0\n",
    "    \n",
    "    # Calculate accuracy after processing all batches for the epoch\n",
    "    accuracy = correct_predictions / total_samples\n",
    "    print(f'Accuracy after epoch {epoch + 1}: {accuracy * 100:.2f}%')\n",
    "\n",
    "print('Finished Training')"
   ]
  }
 ],
 "metadata": {
  "kernelspec": {
   "display_name": "pm",
   "language": "python",
   "name": "python3"
  },
  "language_info": {
   "codemirror_mode": {
    "name": "ipython",
    "version": 3
   },
   "file_extension": ".py",
   "mimetype": "text/x-python",
   "name": "python",
   "nbconvert_exporter": "python",
   "pygments_lexer": "ipython3",
   "version": "3.12.0"
  }
 },
 "nbformat": 4,
 "nbformat_minor": 2
}
